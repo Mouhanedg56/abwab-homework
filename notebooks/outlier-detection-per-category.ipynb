{
 "cells": [
  {
   "cell_type": "code",
   "execution_count": 2,
   "id": "18ecbb8c-7f2a-44ff-8ec3-6fa94f76bab8",
   "metadata": {},
   "outputs": [],
   "source": [
    "# sub_categories = [\"All_Beauty\", \"Subscription_Boxes\", \"Magazine_Subscriptions\", \"Health_and_Personal_Care\", \"Handmade_Products\", \"Gift_Cards\", \"Digital_Music\", \"Appliances\"]\n",
    "sub_categories = [\"Gift_Cards\", \"Digital_Music\", \"Magazine_Subscriptions\", \"Subscription_Boxes\"]"
   ]
  },
  {
   "cell_type": "code",
   "execution_count": 3,
   "id": "559161df-f2f2-44b5-94b7-5b03e8f8b284",
   "metadata": {},
   "outputs": [
    {
     "name": "stdout",
     "output_type": "stream",
     "text": [
      "Loading review dataset for sub category Gift_Cards\n",
      "Loading metadata dataset for sub category Gift_Cards\n",
      "Loading review dataset for sub category Digital_Music\n",
      "Loading metadata dataset for sub category Digital_Music\n",
      "Loading review dataset for sub category Magazine_Subscriptions\n",
      "Loading metadata dataset for sub category Magazine_Subscriptions\n",
      "Loading review dataset for sub category Subscription_Boxes\n",
      "Loading metadata dataset for sub category Subscription_Boxes\n"
     ]
    }
   ],
   "source": [
    "from datasets import load_dataset\n",
    "\n",
    "review_datasets_list = []\n",
    "meta_dataset_list = []\n",
    "for sub_cat in sub_categories:\n",
    "    print(f\"Loading review dataset for sub category {sub_cat}\")\n",
    "    sub_cat_dataset = load_dataset(\"McAuley-Lab/Amazon-Reviews-2023\", f\"raw_review_{sub_cat}\", split=\"full\", trust_remote_code=True)\n",
    "    review_datasets_list.append(sub_cat_dataset.add_column('category', [sub_cat]*len(sub_cat_dataset)))\n",
    "    review_datasets_list.append(sub_cat_dataset)\n",
    "    \n",
    "    print(f\"Loading metadata dataset for sub category {sub_cat}\")\n",
    "    sub_cat_dataset = load_dataset(\"McAuley-Lab/Amazon-Reviews-2023\", f\"raw_meta_{sub_cat}\", split=\"full\", trust_remote_code=True)\n",
    "    meta_dataset_list.append(sub_cat_dataset)"
   ]
  },
  {
   "cell_type": "code",
   "execution_count": 4,
   "id": "03d12591-5568-49d4-b372-3676e8ad63c4",
   "metadata": {},
   "outputs": [],
   "source": [
    "from datasets import concatenate_datasets"
   ]
  },
  {
   "cell_type": "code",
   "execution_count": 5,
   "id": "67e25c4d-f94c-4ef1-9546-93f834238d73",
   "metadata": {},
   "outputs": [],
   "source": [
    "review_dataset = concatenate_datasets(review_datasets_list)\n",
    "meta_dataset = concatenate_datasets(meta_dataset_list)"
   ]
  },
  {
   "cell_type": "code",
   "execution_count": 6,
   "id": "cc8c9758-37ea-4414-924c-7159a558476b",
   "metadata": {},
   "outputs": [
    {
     "data": {
      "text/plain": [
       "(Dataset({\n",
       "     features: ['rating', 'title', 'text', 'images', 'asin', 'parent_asin', 'user_id', 'timestamp', 'helpful_vote', 'verified_purchase', 'category'],\n",
       "     num_rows: 741114\n",
       " }),\n",
       " Dataset({\n",
       "     features: ['main_category', 'title', 'average_rating', 'rating_number', 'features', 'description', 'price', 'images', 'videos', 'store', 'categories', 'details', 'parent_asin', 'bought_together', 'subtitle', 'author'],\n",
       "     num_rows: 75706\n",
       " }))"
      ]
     },
     "execution_count": 6,
     "metadata": {},
     "output_type": "execute_result"
    }
   ],
   "source": [
    "review_dataset, meta_dataset"
   ]
  },
  {
   "cell_type": "code",
   "execution_count": 7,
   "id": "133603b5-44db-4e55-b3f2-f5dfa69841ce",
   "metadata": {},
   "outputs": [],
   "source": [
    "meta_dataset = meta_dataset.rename_column(\"title\", \"item_title\")"
   ]
  },
  {
   "cell_type": "code",
   "execution_count": 8,
   "id": "c0fc05ef-8f0d-4e02-88bd-cabedec8caf1",
   "metadata": {},
   "outputs": [
    {
     "data": {
      "text/plain": [
       "{'main_category': 'Gift Cards',\n",
       " 'item_title': 'Amazon.com Gift Card in Gift Tag (Various Designs)',\n",
       " 'average_rating': 4.8,\n",
       " 'rating_number': 1006,\n",
       " 'features': ['Gift Card is affixed inside a gift tag',\n",
       "  'Gift amount may not be printed on Gift Cards',\n",
       "  'Gift Card has no fees and no expiration date',\n",
       "  'No returns and no refunds on Gift Cards',\n",
       "  'Gift Card is redeemable towards millions of items storewide at Amazon.com',\n",
       "  'Scan and redeem any Gift Card with a mobile or tablet device via the Amazon App',\n",
       "  'Free One-Day Shipping (where available)',\n",
       "  'Customized gift message, if chosen at check-out, only appears on packing slip and not on the actual gift card or carrier'],\n",
       " 'description': [\"Amazon.com Gift Cards are the perfect way to give them exactly what they're hoping for - even if you don't know what it is. Amazon.com Gift Cards are redeemable for millions of items across Amazon.com. Item delivered is a single physical Amazon.com Gift Card nested inside or with a free gift accessory.\"],\n",
       " 'price': 'None',\n",
       " 'images': {'hi_res': ['https://m.media-amazon.com/images/I/71cWJvVGYtL._SL1500_.jpg',\n",
       "   'https://m.media-amazon.com/images/I/71q-qp4b3-L._SL1500_.jpg',\n",
       "   'https://m.media-amazon.com/images/I/71KutAnl9gL._SL1500_.jpg',\n",
       "   'https://m.media-amazon.com/images/I/61FMUKaXfJL._SL1175_.jpg',\n",
       "   'https://m.media-amazon.com/images/I/61blLcj3pWL._SL1500_.jpg'],\n",
       "  'large': ['https://m.media-amazon.com/images/I/41ZA96xtATL.jpg',\n",
       "   'https://m.media-amazon.com/images/I/41NK1FX6uUL.jpg',\n",
       "   'https://m.media-amazon.com/images/I/41Y45S0GirL.jpg',\n",
       "   'https://m.media-amazon.com/images/I/417MZ16DhcL.jpg',\n",
       "   'https://m.media-amazon.com/images/I/21-tRQuOBZL.jpg'],\n",
       "  'thumb': ['https://m.media-amazon.com/images/I/41ZA96xtATL._SX38_SY50_CR,0,0,38,50_.jpg',\n",
       "   'https://m.media-amazon.com/images/I/41NK1FX6uUL._SX38_SY50_CR,0,0,38,50_.jpg',\n",
       "   'https://m.media-amazon.com/images/I/41Y45S0GirL._SX38_SY50_CR,0,0,38,50_.jpg',\n",
       "   'https://m.media-amazon.com/images/I/417MZ16DhcL._SX38_SY50_CR,0,0,38,50_.jpg',\n",
       "   'https://m.media-amazon.com/images/I/21-tRQuOBZL._SX38_SY50_CR,0,0,38,50_.jpg'],\n",
       "  'variant': ['MAIN', 'PT01', 'PT02', 'PT03', 'PT12']},\n",
       " 'videos': {'title': [], 'url': [], 'user_id': []},\n",
       " 'store': 'Amazon',\n",
       " 'categories': ['Gift Cards', 'Gift Card Recipients', 'For Him'],\n",
       " 'details': '{\"Package Dimensions\": \"5 x 3 x 0.1 inches; 0.63 Ounces\", \"Item model number\": \"Fixed\", \"Date First Available\": \"August 29, 2017\", \"Manufacturer\": \"Amazon\"}',\n",
       " 'parent_asin': 'B06ZXTKYHN',\n",
       " 'bought_together': None,\n",
       " 'subtitle': None,\n",
       " 'author': None}"
      ]
     },
     "execution_count": 8,
     "metadata": {},
     "output_type": "execute_result"
    }
   ],
   "source": [
    "meta_dataset[0]"
   ]
  },
  {
   "cell_type": "code",
   "execution_count": 10,
   "id": "55920dcc-b8c0-4836-8a5f-d18b7460b8d4",
   "metadata": {},
   "outputs": [
    {
     "data": {
      "text/plain": [
       "741114"
      ]
     },
     "execution_count": 10,
     "metadata": {},
     "output_type": "execute_result"
    }
   ],
   "source": [
    "len(review_dataset)"
   ]
  },
  {
   "cell_type": "code",
   "execution_count": 14,
   "id": "ef639745-af52-4a73-a199-f2a09b6845a4",
   "metadata": {},
   "outputs": [],
   "source": [
    "review_selected_cols = [\"rating\", \"title\", \"text\", \"parent_asin\", \"user_id\", \"timestamp\", \"helpful_vote\", \"verified_purchase\", \"category\"]\n",
    "meta_selected_cols = [\"main_category\", \"title\", \"average_rating\", \"rating_number\", \"features\", \"description\", \"price\", \"store\", \"categories\", \"details\", \"parent_asin\"]"
   ]
  },
  {
   "cell_type": "code",
   "execution_count": 15,
   "id": "8eca84ce-a9e6-436a-aa02-8b746e50b14e",
   "metadata": {},
   "outputs": [
    {
     "data": {
      "text/plain": [
       "Dataset({\n",
       "    features: ['rating', 'title', 'text', 'images', 'asin', 'parent_asin', 'user_id', 'timestamp', 'helpful_vote', 'verified_purchase', 'category'],\n",
       "    num_rows: 741114\n",
       "})"
      ]
     },
     "execution_count": 15,
     "metadata": {},
     "output_type": "execute_result"
    }
   ],
   "source": [
    "review_dataset"
   ]
  },
  {
   "cell_type": "code",
   "execution_count": 16,
   "id": "e172a64f-4826-476b-a79f-0ba87d291a3b",
   "metadata": {},
   "outputs": [],
   "source": [
    "meta_df = meta_dataset.to_pandas()\n",
    "review_df = review_dataset.to_pandas()"
   ]
  },
  {
   "cell_type": "code",
   "execution_count": 17,
   "id": "03932435-6349-4e9e-8693-e1d0277edcdd",
   "metadata": {},
   "outputs": [],
   "source": [
    "review_selected_cols = [\"rating\", \"title\", \"text\", \"parent_asin\", \"user_id\", \"timestamp\", \"helpful_vote\", \"verified_purchase\", \"category\"]\n",
    "meta_selected_cols = [\"main_category\", \"item_title\", \"average_rating\", \"rating_number\", \"features\", \"description\", \"price\", \"store\", \"categories\", \"details\", \"parent_asin\"]\n",
    "merge_df = review_df[review_selected_cols].merge(meta_df[meta_selected_cols], on=\"parent_asin\")"
   ]
  },
  {
   "cell_type": "code",
   "execution_count": 19,
   "id": "ca5d585e-23fc-490f-b05b-046092cdd41d",
   "metadata": {},
   "outputs": [],
   "source": [
    "merge_df[\"title_text\"] = merge_df.apply(lambda x: f\"{x['title']} {x['text']}\", axis=1)"
   ]
  },
  {
   "cell_type": "code",
   "execution_count": 20,
   "id": "ee414021-cd0c-4f24-8129-997d92608670",
   "metadata": {},
   "outputs": [
    {
     "data": {
      "text/plain": [
       "741114"
      ]
     },
     "execution_count": 20,
     "metadata": {},
     "output_type": "execute_result"
    }
   ],
   "source": [
    "len(merge_df)"
   ]
  },
  {
   "cell_type": "code",
   "execution_count": 21,
   "id": "754c35eb-2468-4bc7-bad8-25e07676cf48",
   "metadata": {},
   "outputs": [],
   "source": [
    "from datasets.features import Value, Sequence, Features\n",
    "\n",
    "features = Features({\n",
    "     'rating': Value(dtype='float64', id=None),\n",
    "     'title': Value(dtype='string', id=None),\n",
    "     'title_text': Value(dtype='string', id=None),\n",
    "     'text': Value(dtype='string', id=None),\n",
    "     'parent_asin': Value(dtype='string', id=None),\n",
    "     'user_id': Value(dtype='string', id=None),\n",
    "     'timestamp': Value(dtype='int64', id=None),\n",
    "     'helpful_vote': Value(dtype='int64', id=None),\n",
    "     'verified_purchase': Value(dtype='bool', id=None),\n",
    "     'main_category': Value(dtype='string', id=None),\n",
    "     'category': Value(dtype='string', id=None),\n",
    "     'item_title': Value(dtype='string', id=None),\n",
    "     'average_rating': Value(dtype='float64', id=None),\n",
    "     'rating_number': Value(dtype='int64', id=None),\n",
    "     'features': Sequence(feature=Value(dtype='string', id=None), length=-1, id=None),\n",
    "     'description': Sequence(feature=Value(dtype='string', id=None), length=-1, id=None),\n",
    "     'price': Value(dtype='string', id=None),\n",
    "     'store': Value(dtype='string', id=None),\n",
    "     'categories': Sequence(feature=Value(dtype='string', id=None), length=-1, id=None),\n",
    "     'details': Value(dtype='string', id=None)})"
   ]
  },
  {
   "cell_type": "code",
   "execution_count": 22,
   "id": "fc5a0c05-ef37-478f-bc98-23756cb9f7f0",
   "metadata": {},
   "outputs": [
    {
     "data": {
      "application/vnd.jupyter.widget-view+json": {
       "model_id": "51fe93a9683645a79a4df5527eac5776",
       "version_major": 2,
       "version_minor": 0
      },
      "text/plain": [
       "  0%|          | 0/149 [00:00<?, ?it/s]"
      ]
     },
     "metadata": {},
     "output_type": "display_data"
    }
   ],
   "source": [
    "from datasets import Dataset, concatenate_datasets\n",
    "from tqdm.notebook import tqdm\n",
    "\n",
    "chunk_size = 5000  # Adjust this based on your memory capacity\n",
    "datasets_list = []\n",
    "\n",
    "for i in tqdm(range(0, len(merge_df), chunk_size)):\n",
    "    chunk = merge_df.iloc[i:i + chunk_size]\n",
    "    datasets_list.append(Dataset.from_pandas(chunk, features))\n",
    "\n",
    "# Concatenate all chunks into one dataset\n",
    "final_dataset = concatenate_datasets(datasets_list)"
   ]
  },
  {
   "cell_type": "code",
   "execution_count": 23,
   "id": "fadfb427-9ed8-4212-81d7-ca5f1acb6d82",
   "metadata": {},
   "outputs": [],
   "source": [
    "from torch.utils.data import DataLoader\n",
    "from tqdm.auto import tqdm\n",
    "from transformers import AutoTokenizer, AutoModel\n",
    "from umap import UMAP\n",
    "import datasets\n",
    "import numpy as np\n",
    "import torch\n",
    "\n",
    "datasets.logging.set_verbosity_error()\n",
    "\n",
    "SEED = 42\n",
    "np.random.seed(SEED)\n",
    "torch.manual_seed(SEED)\n",
    "torch.backends.cudnn.deterministic = True\n",
    "torch.backends.cudnn.benchmark = False\n",
    "torch.cuda.manual_seed_all(SEED)"
   ]
  },
  {
   "cell_type": "code",
   "execution_count": 27,
   "id": "058eac44-5e03-402d-b484-ffb58dc7db76",
   "metadata": {},
   "outputs": [],
   "source": [
    "def mean_pooling(model_output, attention_mask):\n",
    "    token_embeddings = model_output[0] #First element of model_output contains all token embeddings\n",
    "    input_mask_expanded = attention_mask.unsqueeze(-1).expand(token_embeddings.size()).float()\n",
    "    return torch.sum(token_embeddings * input_mask_expanded, 1) / torch.clamp(input_mask_expanded.sum(1), min=1e-9)\n",
    "\n",
    "def embed_sentence_pairs(dataloader, tokenizer, model, disable_tqdm=False):\n",
    "    review_embeddings  = []\n",
    "    item_embeddings = []\n",
    "    feature_embeddings = []\n",
    "\n",
    "    device = torch.device(\"cuda\") if torch.cuda.is_available() else torch.device(\"cpu\")\n",
    "    model.to(device)\n",
    "    model.eval()\n",
    "\n",
    "    loop = tqdm(dataloader, desc=f\"Embedding sentences...\", disable=disable_tqdm)\n",
    "    for data in loop:\n",
    "\n",
    "        review, item = [record['title_text'] for record in data], [record['item_title'] for record in data]\n",
    "        # print(f\"review batch: {review}\")\n",
    "        # encoded_review, encoded_item = (\n",
    "        #     tokenizer(sentences, padding=True, truncation=True, return_tensors='pt')\n",
    "        #     for sentences in (review, item)\n",
    "        # )\n",
    "        encoded_review = tokenizer(review, padding=True, truncation=True, return_tensors='pt')\n",
    "\n",
    "        # Compute token embeddings\n",
    "        with torch.no_grad():\n",
    "            encoded_review = encoded_review.to(device)\n",
    "            # encoded_item = encoded_item.to(device)\n",
    "            model_review_output = model(**encoded_review)\n",
    "            # model_item_output = model(**encoded_item)\n",
    "\n",
    "        # Perform pooling\n",
    "        pooled_review = mean_pooling(model_review_output, encoded_review['attention_mask']).cpu().numpy()\n",
    "        # pooled_item = mean_pooling(model_item_output, encoded_item['attention_mask']).cpu().numpy()\n",
    "    \n",
    "        review_embeddings.extend(pooled_review)\n",
    "        # item_embeddings.extend(pooled_item)\n",
    "\n",
    "        \n",
    "    # Concatenate premise and hypothesis embeddings, as well as their absolute difference\n",
    "    # feature_embeddings = np.concatenate(\n",
    "    #     [\n",
    "    #         np.array(review_embeddings),\n",
    "    #         np.array(item_embeddings),\n",
    "    #         np.abs(np.array(review_embeddings) - np.array(item_embeddings))\n",
    "    #     ],\n",
    "    #     axis=1\n",
    "    # )\n",
    "    feature_embeddings = np.array(review_embeddings)\n",
    "    # feature_embeddings = normalize(feature_embeddings, norm='l2', axis=1)\n",
    "    return feature_embeddings"
   ]
  },
  {
   "cell_type": "code",
   "execution_count": 26,
   "id": "cedcef02-efaf-4a6b-a680-d25078c6f731",
   "metadata": {},
   "outputs": [
    {
     "data": {
      "application/vnd.jupyter.widget-view+json": {
       "model_id": "cdf4539d1f2b483182158a710015b030",
       "version_major": 2,
       "version_minor": 0
      },
      "text/plain": [
       "Filter:   0%|          | 0/741114 [00:00<?, ? examples/s]"
      ]
     },
     "metadata": {},
     "output_type": "display_data"
    },
    {
     "data": {
      "text/plain": [
       "Dataset({\n",
       "    features: ['rating', 'title', 'title_text', 'text', 'parent_asin', 'user_id', 'timestamp', 'helpful_vote', 'verified_purchase', 'main_category', 'category', 'item_title', 'average_rating', 'rating_number', 'features', 'description', 'price', 'store', 'categories', 'details'],\n",
       "    num_rows: 71497\n",
       "})"
      ]
     },
     "execution_count": 26,
     "metadata": {},
     "output_type": "execute_result"
    }
   ],
   "source": [
    "cat = \"Magazine_Subscriptions\"\n",
    "cat_dataset = final_dataset.filter(lambda x: x[\"category\"] == cat)\n",
    "cat_dataset"
   ]
  },
  {
   "cell_type": "code",
   "execution_count": null,
   "id": "936615df-0d52-491e-8da2-528e170a7a8a",
   "metadata": {},
   "outputs": [
    {
     "name": "stderr",
     "output_type": "stream",
     "text": [
      "/Users/mouhaned.chebaane/Library/Caches/pypoetry/virtualenvs/abwab-homework-r5ZhboOE-py3.11/lib/python3.11/site-packages/transformers/tokenization_utils_base.py:1601: FutureWarning: `clean_up_tokenization_spaces` was not set. It will be set to `True` by default. This behavior will be depracted in transformers v4.45, and will be then set to `False` by default. For more details check this issue: https://github.com/huggingface/transformers/issues/31884\n",
      "  warnings.warn(\n"
     ]
    },
    {
     "data": {
      "application/vnd.jupyter.widget-view+json": {
       "model_id": "d637c6e3bad5454b97349406ec37b3dc",
       "version_major": 2,
       "version_minor": 0
      },
      "text/plain": [
       "Embedding sentences...:   0%|          | 0/559 [00:00<?, ?it/s]"
      ]
     },
     "metadata": {},
     "output_type": "display_data"
    }
   ],
   "source": [
    "model_name = 'sentence-transformers/all-MiniLM-L6-v2'\n",
    "\n",
    "# Uncomment the following line to try a regular Transformers model trained on MultiNLI\n",
    "# model_name = 'sileod/roberta-base-mnli'\n",
    "\n",
    "tokenizer = AutoTokenizer.from_pretrained(model_name)\n",
    "model = AutoModel.from_pretrained(model_name)\n",
    "\n",
    "batch_size = 128\n",
    "\n",
    "# Place Hugging Face datasets in a PyTorch DataLoader\n",
    "loader = DataLoader(cat_dataset, batch_size=batch_size, shuffle=False, collate_fn=lambda x: x)\n",
    "\n",
    "# Get embeddings\n",
    "embeddings = embed_sentence_pairs(loader, tokenizer, model, disable_tqdm=False)"
   ]
  },
  {
   "cell_type": "code",
   "execution_count": 24,
   "id": "a9702c2d-6b76-4ff1-9054-f4d895354c6e",
   "metadata": {},
   "outputs": [
    {
     "ename": "NameError",
     "evalue": "name 'embeddings' is not defined",
     "output_type": "error",
     "traceback": [
      "\u001b[0;31m---------------------------------------------------------------------------\u001b[0m",
      "\u001b[0;31mNameError\u001b[0m                                 Traceback (most recent call last)",
      "Cell \u001b[0;32mIn[24], line 2\u001b[0m\n\u001b[1;32m      1\u001b[0m emb_size \u001b[38;5;241m=\u001b[39m \u001b[38;5;241m384\u001b[39m\n\u001b[0;32m----> 2\u001b[0m text_embeddings \u001b[38;5;241m=\u001b[39m \u001b[43membeddings\u001b[49m[:,:emb_size]\n",
      "\u001b[0;31mNameError\u001b[0m: name 'embeddings' is not defined"
     ]
    }
   ],
   "source": [
    "emb_size = 384\n",
    "text_embeddings = embeddings[:,:emb_size]"
   ]
  },
  {
   "cell_type": "code",
   "execution_count": null,
   "id": "ac5c5676-b591-4e67-a440-2062c84b09c1",
   "metadata": {},
   "outputs": [],
   "source": [
    "import numpy as np\n",
    "\n",
    "# import matplotlib.pyplot as plt\n",
    "# for the cluster to save the fig:\n",
    "import matplotlib\n",
    "matplotlib.use('Agg')\n",
    "\n",
    "from sklearn.neighbors import LocalOutlierFactor\n",
    "from sklearn.svm import OneClassSVM\n",
    "from sklearn.ensemble import IsolationForest\n",
    "from sklearn.utils import shuffle as sh\n",
    "\n",
    "from em import em, mv\n",
    "\n",
    "# framework: outlier or novelty detection\n",
    "novelty_detection = True\n",
    "\n",
    "# parameters of the algorithm:\n",
    "averaging = 100\n",
    "max_features = 10\n",
    "n_generated = 100000\n",
    "alpha_min = 0.9\n",
    "alpha_max = 0.999\n",
    "t_max = 0.9\n",
    "ocsvm_max_train = 10000\n",
    "\n",
    "np.random.seed(1)\n",
    "\n",
    "n_samples, n_features = embeddings.shape\n",
    "n_samples_train = n_samples // 2\n",
    "n_samples_test = n_samples - n_samples_train\n",
    "\n",
    "X_train = embeddings[:n_samples_train, :]\n",
    "X_test = embeddings[n_samples_train:, :]\n",
    "\n",
    "# define models:\n",
    "iforest = IsolationForest()\n",
    "# lof = LocalOutlierFactor(n_neighbors=20, novelty=False)\n",
    "ocsvm = OneClassSVM()\n",
    "\n",
    "n_samples, n_features = X_test.shape\n",
    "em_iforest, mv_iforest = 0, 0\n",
    "em_lof, mv_lof = 0, 0\n",
    "em_ocsvm, mv_ocsvm = 0, 0\n",
    "nb_exp = 0\n",
    "while nb_exp < averaging:\n",
    "    features = sh(np.arange(n_features))[:max_features]\n",
    "    X_train_ = X_train[:, features]\n",
    "    X_ = X_test[:, features]\n",
    "\n",
    "    lim_inf = X_.min(axis=0)\n",
    "    lim_sup = X_.max(axis=0)\n",
    "    volume_support = (lim_sup - lim_inf).prod()\n",
    "    if volume_support > 0:\n",
    "        nb_exp += 1\n",
    "        t = np.arange(0, 100 / volume_support, 0.001 / volume_support)\n",
    "        axis_alpha = np.arange(alpha_min, alpha_max, 0.001)\n",
    "        unif = np.random.uniform(lim_inf, lim_sup,\n",
    "                                 size=(n_generated, max_features))\n",
    "\n",
    "        iforest.fit(X_train_)\n",
    "        # lof.fit(X_train_)\n",
    "        ocsvm.fit(X_train_[:min(ocsvm_max_train, n_samples_train - 1)])\n",
    "        print('end of ocsvm training!')\n",
    "        s_X_iforest = iforest.decision_function(X_)\n",
    "        # s_X_lof = lof.decision_function(X_)\n",
    "        s_X_ocsvm = ocsvm.decision_function(X_).reshape(1, -1)[0]\n",
    "\n",
    "        s_unif_iforest = iforest.decision_function(unif)\n",
    "        # s_unif_lof = lof.decision_function(unif)\n",
    "        s_unif_ocsvm = ocsvm.decision_function(unif).reshape(1, -1)[0]\n",
    "\n",
    "        em_iforest += em(t, t_max, volume_support, s_unif_iforest,\n",
    "                         s_X_iforest, n_generated)[0]\n",
    "        mv_iforest += mv(axis_alpha, volume_support, s_unif_iforest,\n",
    "                         s_X_iforest, n_generated)[0]\n",
    "        # em_lof += em(t, t_max, volume_support, s_unif_lof, s_X_lof,\n",
    "        #              n_generated)[0]\n",
    "        # mv_lof += mv(axis_alpha, volume_support, s_unif_lof,\n",
    "        #              s_X_lof, n_generated)[0]\n",
    "        em_ocsvm += em(t, t_max, volume_support, s_unif_ocsvm,\n",
    "                       s_X_ocsvm, n_generated)[0]\n",
    "        mv_ocsvm += mv(axis_alpha, volume_support, s_unif_ocsvm,\n",
    "                       s_X_ocsvm, n_generated)[0]\n",
    "\n",
    "em_iforest /= averaging\n",
    "mv_iforest /= averaging\n",
    "# em_lof /= averaging\n",
    "# mv_lof /= averaging\n",
    "em_ocsvm /= averaging\n",
    "mv_ocsvm /= averaging\n",
    "\n",
    "with open('result_em_bench_high_unsupervised_with' + str(alpha_min) + '_factorized_with' + str(ocsvm_max_train) + 'ocsvm_' + str(max_features) + '_' + str(averaging) + '_' + '.txt', 'a') as result:\n",
    "    result.write('em_iforest = ' + str(em_iforest) + '\\n')\n",
    "    # result.write('em_lof = ' + str(em_lof) + '\\n')\n",
    "    result.write('em_ocsvm = ' + str(em_ocsvm) + '\\n \\n')\n",
    "\n",
    "    result.write('mv_iforest = ' + str(mv_iforest) + '\\n')\n",
    "    # result.write('mv_lof = ' + str(mv_lof) + '\\n')\n",
    "    result.write('mv_ocsvm = ' + str(mv_ocsvm) + '\\n')"
   ]
  },
  {
   "cell_type": "code",
   "execution_count": 26,
   "id": "2a9056d8-ed7f-4227-9eeb-e504d0689028",
   "metadata": {},
   "outputs": [
    {
     "name": "stdout",
     "output_type": "stream",
     "text": [
      "Fitting OOD estimator based on provided features ...\n"
     ]
    }
   ],
   "source": [
    "from cleanlab.outlier import OutOfDistribution\n",
    "\n",
    "# Get outlier scores for each of the data feature embeddings\n",
    "ood = OutOfDistribution()\n",
    "outlier_scores = ood.fit_score(features=text_embeddings)"
   ]
  },
  {
   "cell_type": "code",
   "execution_count": 27,
   "id": "8e5b00af-d1e9-4bbf-91dd-833d8f59f634",
   "metadata": {},
   "outputs": [
    {
     "data": {
      "text/plain": [
       "<matplotlib.lines.Line2D at 0x1bc4479d0>"
      ]
     },
     "execution_count": 27,
     "metadata": {},
     "output_type": "execute_result"
    },
    {
     "data": {
      "image/png": "[encoded data removed]",
      "text/plain": [
       "<Figure size 1000x500 with 2 Axes>"
      ]
     },
     "metadata": {},
     "output_type": "display_data"
    }
   ],
   "source": [
    "import matplotlib.pyplot as plt\n",
    "\n",
    "threshold = np.percentile(outlier_scores, 2.5)\n",
    "\n",
    "fig, axes = plt.subplots(nrows=1, ncols=2, figsize=(10, 5))\n",
    "plt_range = [outlier_scores.min(), outlier_scores.max()]\n",
    "\n",
    "axes[0].hist(outlier_scores, range=plt_range, bins=50)\n",
    "axes[0].set(title='outlier_scores distribution', ylabel='Frequency')\n",
    "axes[0].axvline(x=threshold, color='red', linewidth=2)"
   ]
  },
  {
   "cell_type": "code",
   "execution_count": 28,
   "id": "e830db75-a4fc-48f3-9184-535ae26a90f3",
   "metadata": {},
   "outputs": [
    {
     "ename": "NameError",
     "evalue": "name 'sample_dataset' is not defined",
     "output_type": "error",
     "traceback": [
      "\u001b[0;31m---------------------------------------------------------------------------\u001b[0m",
      "\u001b[0;31mNameError\u001b[0m                                 Traceback (most recent call last)",
      "Cell \u001b[0;32mIn[28], line 5\u001b[0m\n\u001b[1;32m      2\u001b[0m outlier_scores \u001b[38;5;241m=\u001b[39m outlier_scores[sorted_ids]\n\u001b[1;32m      3\u001b[0m outlier_ids \u001b[38;5;241m=\u001b[39m sorted_ids[outlier_scores \u001b[38;5;241m<\u001b[39m threshold]\n\u001b[0;32m----> 5\u001b[0m selected_outlier_subset \u001b[38;5;241m=\u001b[39m \u001b[43msample_dataset\u001b[49m\u001b[38;5;241m.\u001b[39mselect(outlier_ids)\n\u001b[1;32m      6\u001b[0m selected_outlier_subset\u001b[38;5;241m.\u001b[39mto_pandas()\u001b[38;5;241m.\u001b[39mtail(\u001b[38;5;241m15\u001b[39m)\n",
      "\u001b[0;31mNameError\u001b[0m: name 'sample_dataset' is not defined"
     ]
    }
   ],
   "source": [
    "sorted_ids = outlier_scores.argsort()\n",
    "outlier_scores = outlier_scores[sorted_ids]\n",
    "outlier_ids = sorted_ids[outlier_scores < threshold]\n",
    "\n",
    "selected_outlier_subset = sample_dataset.select(outlier_ids)\n",
    "selected_outlier_subset.to_pandas().tail(15)"
   ]
  },
  {
   "cell_type": "code",
   "execution_count": null,
   "id": "e48e09ae-a480-42cf-afe3-11842869dd0d",
   "metadata": {},
   "outputs": [],
   "source": []
  }
 ],
 "metadata": {
  "kernelspec": {
   "display_name": "Poetry",
   "language": "python",
   "name": "poetry-kernel"
  },
  "language_info": {
   "codemirror_mode": {
    "name": "ipython",
    "version": 3
   },
   "file_extension": ".py",
   "mimetype": "text/x-python",
   "name": "python",
   "nbconvert_exporter": "python",
   "pygments_lexer": "ipython3",
   "version": "3.11.8"
  }
 },
 "nbformat": 4,
 "nbformat_minor": 5
}
